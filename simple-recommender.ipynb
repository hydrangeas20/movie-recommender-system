{
 "cells": [
  {
   "cell_type": "markdown",
   "metadata": {},
   "source": [
    "## **Building A Simple Recommender System**\n",
    "\n",
    "For this project we will be building an item similarity based movie recommender system. This content-based recommender system will suggest movies to users based on similarities between attributes such as genre, actors, directors, plot keywords, release year, language, and runtime.\n",
    "\n",
    "This is a content-based recommender system.\n",
    "Content based recommender systems compare the attributes of the items and give the users recommendations based on the similarity between them.\n",
    "\n",
    "### Steps Needed for Coding the Recommender System:\n",
    "1.   Import libraries\n",
    "2.   Importing our data -from selected Kaggle data set\n",
    "3.   Create dataframes that contain parameters of interest\n",
    "4.   Visualizations\n",
    "5.   Build the Recommender System using Pandas\n",
    "6.   Using KNN\n"
   ]
  },
  {
   "cell_type": "markdown",
   "metadata": {},
   "source": [
    "## Imports"
   ]
  },
  {
   "cell_type": "code",
   "execution_count": null,
   "metadata": {},
   "outputs": [],
   "source": [
    "import numpy as np\n",
    "import pandas as pd"
   ]
  },
  {
   "cell_type": "markdown",
   "metadata": {},
   "source": [
    "## Loading & Merging Datasets"
   ]
  },
  {
   "cell_type": "code",
   "execution_count": null,
   "metadata": {},
   "outputs": [],
   "source": [
    "# ratings\n",
    "columns_name = ['user_id', 'item_id', 'rating', 'timestamp']\n",
    "df = pd.read_csv('/content/sample_data/u.data', sep='\\t', names=columns_name)"
   ]
  },
  {
   "cell_type": "code",
   "execution_count": null,
   "metadata": {},
   "outputs": [],
   "source": [
    "df.head()"
   ]
  },
  {
   "cell_type": "code",
   "execution_count": null,
   "metadata": {},
   "outputs": [],
   "source": [
    "# titles\n",
    "movie_titles = pd.read_csv('/content/sample_data/Movie_Id_Titles')\n",
    "movie_titles.head()"
   ]
  },
  {
   "cell_type": "code",
   "execution_count": null,
   "metadata": {},
   "outputs": [],
   "source": [
    "# merge two datasets together \n",
    "df = pd.merge(df, movie_titles, on='item_id')\n",
    "df.head()"
   ]
  },
  {
   "cell_type": "markdown",
   "metadata": {},
   "source": [
    "# EDA"
   ]
  },
  {
   "cell_type": "code",
   "execution_count": null,
   "metadata": {},
   "outputs": [],
   "source": [
    "# basis data analysis\n",
    "import matplotlib.pyplot as plt\n",
    "import seaborn as sns\n",
    "sns.set_style('white')\n",
    "%matplotlib inline"
   ]
  },
  {
   "cell_type": "code",
   "execution_count": null,
   "metadata": {},
   "outputs": [],
   "source": [
    "df.groupby('title')['rating'].mean().sort_values(ascending=False).head()"
   ]
  },
  {
   "cell_type": "code",
   "execution_count": null,
   "metadata": {},
   "outputs": [],
   "source": [
    "df.groupby('title')['rating'].count().sort_values(ascending=False).head()"
   ]
  },
  {
   "cell_type": "code",
   "execution_count": null,
   "metadata": {},
   "outputs": [],
   "source": [
    "ratings = pd.DataFrame(df.groupby('title')['rating'].mean())"
   ]
  },
  {
   "cell_type": "code",
   "execution_count": null,
   "metadata": {},
   "outputs": [],
   "source": [
    "ratings.head()"
   ]
  },
  {
   "cell_type": "markdown",
   "metadata": {},
   "source": [
    "# Creating DataFrames"
   ]
  },
  {
   "cell_type": "code",
   "execution_count": null,
   "metadata": {},
   "outputs": [],
   "source": [
    "# create ratings dataframe \n",
    "# get the number of ratings\n",
    "ratings['num of ratings'] = pd.DataFrame(df.groupby('title')['rating'].count())\n",
    "ratings.head()"
   ]
  },
  {
   "cell_type": "markdown",
   "metadata": {},
   "source": [
    "## Visualizations"
   ]
  },
  {
   "cell_type": "code",
   "execution_count": null,
   "metadata": {},
   "outputs": [],
   "source": [
    "ratings['num of ratings'].hist(bins=70)"
   ]
  },
  {
   "cell_type": "code",
   "execution_count": null,
   "metadata": {},
   "outputs": [],
   "source": [
    "ratings['rating'].hist(bins=70)"
   ]
  },
  {
   "cell_type": "code",
   "execution_count": null,
   "metadata": {},
   "outputs": [],
   "source": [
    "sns.jointplot(x='rating', y= 'num of ratings', data=ratings,alpha=0.5)"
   ]
  },
  {
   "cell_type": "code",
   "execution_count": null,
   "metadata": {},
   "outputs": [],
   "source": [
    "# Creating a matrix using the user ids and movie ids\n",
    "# So we can see the rating each user gave to each movie\n",
    "moviemat = df.pivot_table(index='user_id', columns= 'title', values='rating')"
   ]
  },
  {
   "cell_type": "code",
   "execution_count": null,
   "metadata": {},
   "outputs": [],
   "source": [
    "# Creating User-item Matrix \n",
    "moviemat.head()"
   ]
  },
  {
   "cell_type": "code",
   "execution_count": null,
   "metadata": {},
   "outputs": [],
   "source": [
    "# sorting rating dataframe according to num_of_ratings\n",
    "ratings.sort_values('num of ratings', ascending=False).head(10)"
   ]
  },
  {
   "cell_type": "markdown",
   "metadata": {},
   "source": [
    "## Handling Null values and Joining Dataframes "
   ]
  },
  {
   "cell_type": "code",
   "execution_count": null,
   "metadata": {},
   "outputs": [],
   "source": [
    "# We'll look at the user ratings for the top two movies - Star Wars and Fargo\n",
    "starwars_user_ratings = moviemat['Star Wars (1977)']\n",
    "fargo_user_ratings = moviemat['Fargo (1996)']"
   ]
  },
  {
   "cell_type": "code",
   "execution_count": null,
   "metadata": {},
   "outputs": [],
   "source": [
    "starwars_user_ratings.head()"
   ]
  },
  {
   "cell_type": "code",
   "execution_count": null,
   "metadata": {},
   "outputs": [],
   "source": [
    "# Corrwith\n",
    "similar_to_starwars= moviemat.corrwith(starwars_user_ratings)"
   ]
  },
  {
   "cell_type": "code",
   "execution_count": null,
   "metadata": {},
   "outputs": [],
   "source": [
    "similar_to_fargo = moviemat.corrwith(fargo_user_ratings)"
   ]
  },
  {
   "cell_type": "code",
   "execution_count": null,
   "metadata": {},
   "outputs": [],
   "source": [
    "# Removing null values and use dataframes instead of series\n",
    "corr_starwars = pd.DataFrame(similar_to_starwars, columns=['Correlation'])\n",
    "corr_starwars.dropna(inplace=True)\n",
    "corr_starwars.head()"
   ]
  },
  {
   "cell_type": "code",
   "execution_count": null,
   "metadata": {},
   "outputs": [],
   "source": [
    "corr_starwars =corr_starwars.join(ratings['num of ratings'])"
   ]
  },
  {
   "cell_type": "code",
   "execution_count": null,
   "metadata": {},
   "outputs": [],
   "source": [
    "corr_starwars.head()"
   ]
  },
  {
   "cell_type": "code",
   "execution_count": null,
   "metadata": {},
   "outputs": [],
   "source": [
    "corr_starwars[corr_starwars['num of ratings']>100].sort_values('Correlation', ascending=False).head()"
   ]
  },
  {
   "cell_type": "code",
   "execution_count": null,
   "metadata": {},
   "outputs": [],
   "source": [
    "corr_fargo = pd.DataFrame(similar_to_fargo, columns=['Correlation'])\n",
    "corr_fargo.dropna(inplace=True)\n",
    "corr_fargo = corr_fargo.join(ratings['num of ratings'])"
   ]
  },
  {
   "cell_type": "code",
   "execution_count": null,
   "metadata": {},
   "outputs": [],
   "source": [
    "corr_fargo.head()"
   ]
  },
  {
   "cell_type": "code",
   "execution_count": null,
   "metadata": {},
   "outputs": [],
   "source": [
    "corr_fargo[corr_fargo['num of ratings']>100].sort_values('Correlation', ascending=False).head()"
   ]
  },
  {
   "cell_type": "markdown",
   "metadata": {},
   "source": [
    "## Adding K-Nearest Neighbors (KNN)"
   ]
  },
  {
   "cell_type": "code",
   "execution_count": null,
   "metadata": {},
   "outputs": [],
   "source": [
    "import pandas as pd\n",
    "from sklearn.neighbors import NearestNeighbors\n",
    "import numpy as np\n",
    "import matplotlib.pyplot as plt\n",
    "import seaborn as sns\n",
    "\n",
    "ratings_df = pd.read_csv('/content/sample_data/u.data', sep='\\t', header=None, names=['user_id', 'movie_id', 'rating', 'timestamp'])\n",
    "movies_df = pd.read_csv('/content/sample_data/Movie_Id_Titles', sep=',', header=0, names=['movie_id', 'movie_title'])"
   ]
  },
  {
   "cell_type": "code",
   "execution_count": null,
   "metadata": {},
   "outputs": [],
   "source": [
    "print(\"Ratings Data:\")\n",
    "print(ratings_df.head())"
   ]
  },
  {
   "cell_type": "code",
   "execution_count": null,
   "metadata": {},
   "outputs": [],
   "source": [
    "print(\"\\nMovies Data:\")\n",
    "print(movies_df.head())"
   ]
  },
  {
   "cell_type": "code",
   "execution_count": null,
   "metadata": {},
   "outputs": [],
   "source": [
    "ratings_movies_df = pd.merge(ratings_df, movies_df, on='movie_id')\n",
    "\n",
    "print(\"MovieLens Data:\")\n",
    "print(ratings_movies_df.head())"
   ]
  },
  {
   "cell_type": "code",
   "execution_count": null,
   "metadata": {},
   "outputs": [],
   "source": [
    "# Import necessary libraries\n",
    "from sklearn.neighbors import NearestNeighbors\n",
    "from sklearn.impute import SimpleImputer\n",
    "import numpy as np\n",
    "import pandas as pd\n",
    "\n",
    "\n",
    "# Creating item-user matrix: This contains the user details along with movie details and review by the user\n",
    "user_item_matrix = ratings_movies_df.pivot_table(index='user_id', columns='movie_id', values='rating')\n",
    "\n",
    "# Creating item-user matrix\n",
    "item_user_matrix = user_item_matrix.T\n",
    "\n",
    "#NaN value handling, using SimpleImputer we can fill in empty rows with the average of the column\n",
    "imputer = SimpleImputer(strategy='mean')\n",
    "item_user_matrix_imputed = imputer.fit_transform(item_user_matrix)\n",
    "\n",
    "# Convert the imputed matrix back to a DataFrame\n",
    "item_user_matrix = pd.DataFrame(item_user_matrix_imputed, index=item_user_matrix.index, columns=item_user_matrix.columns)\n",
    "\n",
    "# Initialize the KNN model:\n",
    "# 'n_neighbors=5' means we want to find the 5 most similar items.\n",
    "# 'metric='cosine'' specifies that we use cosine similarity to measure the similarity between items.\n",
    "knn = NearestNeighbors(n_neighbors=5, metric='cosine')\n",
    "\n",
    "# Fit the KNN model on the item-user matrix:\n",
    "# This trains the model to find similar items based on user ratings.\n",
    "knn.fit(item_user_matrix)\n",
    "\n",
    "# Created a similar item function to grab the top 5 movies that have a similar user-item matrix\n",
    "def get_similar_items(movie_id, n_neighbors=5):\n",
    "    # Check if the movie_id exists in the item-user matrix columns\n",
    "    if movie_id not in user_item_matrix.columns:\n",
    "        return []  # Return an empty list if the movie_id is not found\n",
    "\n",
    "    # Get the index of the movie_id in the item-user matrix columns\n",
    "    movie_index = user_item_matrix.columns.get_loc(movie_id)\n",
    "\n",
    "    # Find similar items using the KNN model:\n",
    "    distances, indices = knn.kneighbors([item_user_matrix.iloc[movie_index]], n_neighbors=n_neighbors)\n",
    "\n",
    "    # Get the indices of the most similar movies\n",
    "    similar_movie_indices = indices.flatten()\n",
    "\n",
    "    # Convert the indices to movie IDs\n",
    "    similar_movie_ids = [user_item_matrix.columns[i] for i in similar_movie_indices]\n",
    "\n",
    "    return similar_movie_ids"
   ]
  },
  {
   "cell_type": "markdown",
   "metadata": {},
   "source": [
    "## Testing KNN"
   ]
  },
  {
   "cell_type": "code",
   "execution_count": null,
   "metadata": {},
   "outputs": [],
   "source": [
    "# Testing the KNN model, let's use Fargo: movie_id\n",
    "\n",
    "# Step#: 1 -Search for movies with 'Fargo' in the title\n",
    "fargo_movie = movies_df[movies_df['movie_title'].str.contains('Fargo', case=False)]\n",
    "print(fargo_movie)"
   ]
  },
  {
   "cell_type": "code",
   "execution_count": null,
   "metadata": {},
   "outputs": [],
   "source": [
    "# Step#: 2 -Find similar movies to movie_id 100 (aka Fargo)\n",
    "similar_items = get_similar_items(100)\n",
    "print(f\"Similar movies to 'Fargo': {similar_items}\")"
   ]
  },
  {
   "cell_type": "code",
   "execution_count": null,
   "metadata": {},
   "outputs": [],
   "source": [
    "# Step#: 3 -The end user will not understand movie_ids, we need to print the title of the movie:\n",
    "similar_items = get_similar_items(100)\n",
    "similar_movies_df = movies_df[movies_df['movie_id'].isin(similar_items)]\n",
    "print(similar_movies_df)\n"
   ]
  },
  {
   "cell_type": "markdown",
   "metadata": {},
   "source": [
    "#### Visualizations and Outputs will be put in a separate page :) "
   ]
  }
 ],
 "metadata": {
  "language_info": {
   "name": "python"
  }
 },
 "nbformat": 4,
 "nbformat_minor": 2
}
